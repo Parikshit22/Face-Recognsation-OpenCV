{
 "cells": [
  {
   "cell_type": "code",
   "execution_count": 1,
   "metadata": {},
   "outputs": [],
   "source": [
    "import cv2\n",
    "import numpy as np\n",
    "import os\n",
    "\n",
    "def dist(x1,x2):\n",
    "    return np.sqrt(sum((x1-x2)**2))\n",
    "\n",
    "def knn(X,Y,query_point,k= 5):\n",
    "    vals = []\n",
    "    m = X.shape[0]\n",
    "    for i in range(m):\n",
    "        d = dist(X[i],query_point)\n",
    "        vals.append((d,Y[i]))\n",
    "    vals = sorted(vals)\n",
    "    #val.sort(key = lambda x: x[0])\n",
    "    val = vals[:k]\n",
    "    val = np.array(val)\n",
    "    freq = np.unique(val,return_counts = True)\n",
    "    idx = np.argmax(freq[1])\n",
    "    pred = freq[0][idx]\n",
    "    return pred\n"
   ]
  },
  {
   "cell_type": "code",
   "execution_count": 2,
   "metadata": {},
   "outputs": [],
   "source": [
    "datapath = './image_data/'\n",
    "face_data = []\n",
    "labels = []\n",
    "data = {}\n",
    "class_id = 0\n",
    "\n",
    "for i in os.listdir(datapath):\n",
    "    if i.endswith('.npy'):\n",
    "        data_item = np.load(datapath+i)\n",
    "        data[class_id] = i[:-4]\n",
    "        face_data.append(data_item)\n",
    "        \n",
    "        target = class_id*np.ones((data_item.shape[0],))\n",
    "        labels.append(target)\n",
    "        class_id += 1\n",
    "\n",
    "facedata = np.concatenate(face_data,axis = 0)\n",
    "label = np.concatenate(labels,axis = 0)\n",
    "\n",
    "cap = cv2.VideoCapture(0)\n",
    "face_cascade = cv2.CascadeClassifier(\"./SnapChat Filter dataset/haarcascade_frontalface_alt.xml\")\n",
    "\n",
    "while True:\n",
    "    rest,img = cap.read()\n",
    "    if rest == False:\n",
    "        continue\n",
    "    faces = face_cascade.detectMultiScale(img,1.3,2)\n",
    "    for face in faces:\n",
    "        (x,y,w,h) = face\n",
    "        offset = 10\n",
    "        face_selection = img[y-offset:y+h+offset,x-offset:x+w+offset]\n",
    "        face_selection = cv2.resize(face_selection,(100,100))\n",
    "        out = knn(facedata,label,face_selection.flatten())\n",
    "        \n",
    "        name = data[int(out)]\n",
    "        cv2.putText(img,name,(x,y-10),cv2.FONT_HERSHEY_SIMPLEX,1,(255,0,0),2,cv2.LINE_AA)\n",
    "        cv2.rectangle(img,(x,y),(x+w,x+h),(0,0,255),2)\n",
    "    cv2.imshow('live vedio',img)\n",
    "    key = cv2.waitKey(1)&0xFF\n",
    "    if key == ord('q'):\n",
    "        break\n",
    "    \n",
    "cap.release()\n",
    "cv2.destroyAllWindows()\n"
   ]
  },
  {
   "cell_type": "code",
   "execution_count": null,
   "metadata": {},
   "outputs": [],
   "source": []
  },
  {
   "cell_type": "code",
   "execution_count": null,
   "metadata": {},
   "outputs": [],
   "source": []
  },
  {
   "cell_type": "code",
   "execution_count": null,
   "metadata": {},
   "outputs": [],
   "source": []
  }
 ],
 "metadata": {
  "kernelspec": {
   "display_name": "Python 3",
   "language": "python",
   "name": "python3"
  },
  "language_info": {
   "codemirror_mode": {
    "name": "ipython",
    "version": 3
   },
   "file_extension": ".py",
   "mimetype": "text/x-python",
   "name": "python",
   "nbconvert_exporter": "python",
   "pygments_lexer": "ipython3",
   "version": "3.6.8"
  }
 },
 "nbformat": 4,
 "nbformat_minor": 2
}
