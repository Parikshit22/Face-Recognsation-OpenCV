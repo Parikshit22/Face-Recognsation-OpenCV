{
 "cells": [
  {
   "cell_type": "code",
   "execution_count": 8,
   "metadata": {},
   "outputs": [],
   "source": [
    "'''\n",
    "import cv2\n",
    "cap = cv2.VideoCapture(0)\n",
    "face_cascade = cv2.CascadeClassifier(\"./SnapChat Filter dataset/haarcascade_frontalface_alt.xml\")\n",
    "while True:    \n",
    "    \n",
    "    rest,img = cap.read()\n",
    "    if rest==False:\n",
    "        continue\n",
    "    faces = face_cascade.detectMultiScale(img,1.3,4)\n",
    "    \n",
    "    for (x,y,w,h) in faces:\n",
    "        cv2.rectangle(img,(x,y),(x+w,y+h),(0,255,0),4)\n",
    "    \n",
    "    cv2.imshow('live vedio',img)\n",
    "    \n",
    "    key = cv2.waitKey(1)&0xFF\n",
    "    if key==ord('q'):\n",
    "        break\n",
    "    \n",
    "cap.release()\n",
    "cv2.destroyAllWindows()\n",
    "'''"
   ]
  },
  {
   "cell_type": "code",
   "execution_count": 2,
   "metadata": {},
   "outputs": [
    {
     "name": "stdout",
     "output_type": "stream",
     "text": [
      "enter your nameParikshit\n"
     ]
    }
   ],
   "source": [
    "import cv2\n",
    "import numpy as np\n",
    "\n",
    "cap = cv2.VideoCapture(0)\n",
    "face_cascade = cv2.CascadeClassifier(\"./SnapChat Filter dataset/haarcascade_frontalface_alt.xml\")\n",
    "skip = 0\n",
    "frames = []\n",
    "datapath = \"./image_data/\"\n",
    "filename = input(\"enter your name\")\n",
    "while True:\n",
    "    rest,img = cap.read()\n",
    "    if rest == False:\n",
    "        continue\n",
    "    faces = face_cascade.detectMultiScale(img,1.3,5)\n",
    "    faces = sorted(faces, key = lambda x:x[2]*x[3] )\n",
    "    for face in faces:\n",
    "        (x,y,w,h) = face\n",
    "        cv2.rectangle(img,(x,y),(x+w,y+h),(0,0,255),2)\n",
    "        \n",
    "        offset = 10\n",
    "        face_selection  = img[y-offset:y+h+offset,x-offset:x+w+offset]\n",
    "        face_selection = cv2.resize(face_selection,(100,100))\n",
    "        if(skip%10==0):\n",
    "            frames.append(face_selection)\n",
    "        cv2.imshow(\"face\",face_selection)\n",
    "        skip+=1\n",
    "        \n",
    "    cv2.imshow(\"live vedio\",img)\n",
    "    \n",
    "    key = cv2.waitKey(1)&0xFF\n",
    "    if key == ord('q'):\n",
    "        break\n",
    "frames = np.asarray(frames)\n",
    "frames = frames.reshape((frames.shape[0],-1))\n",
    "\n",
    "np.save(datapath+filename+'.npy',frames)\n",
    "cap.release()\n",
    "cv2.destroyAllWindows()\n"
   ]
  },
  {
   "cell_type": "code",
   "execution_count": null,
   "metadata": {},
   "outputs": [],
   "source": []
  }
 ],
 "metadata": {
  "kernelspec": {
   "display_name": "Python 3",
   "language": "python",
   "name": "python3"
  },
  "language_info": {
   "codemirror_mode": {
    "name": "ipython",
    "version": 3
   },
   "file_extension": ".py",
   "mimetype": "text/x-python",
   "name": "python",
   "nbconvert_exporter": "python",
   "pygments_lexer": "ipython3",
   "version": "3.6.8"
  }
 },
 "nbformat": 4,
 "nbformat_minor": 2
}
